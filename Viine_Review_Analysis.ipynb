{
  "nbformat": 4,
  "nbformat_minor": 0,
  "metadata": {
    "colab": {
      "name": "Viine_Review_Analysis.ipynb",
      "provenance": []
    },
    "kernelspec": {
      "name": "python3",
      "display_name": "Python 3"
    },
    "language_info": {
      "name": "python"
    }
  },
  "cells": [
    {
      "cell_type": "code",
      "metadata": {
        "colab": {
          "base_uri": "https://localhost:8080/"
        },
        "id": "mgCnJubLXXKe",
        "outputId": "3552c9b2-22d8-4b8f-b5bb-ec92120bd5d2"
      },
      "source": [
        "import os\n",
        "# Find the latest version of spark 3.0  from http://www-us.apache.org/dist/spark/ and enter as the spark version\n",
        "# For example:\n",
        "# spark_version = 'spark-3.0.2'\n",
        "spark_version = 'spark-3.0.0'\n",
        "os.environ['SPARK_VERSION']=spark_version\n",
        "print(f\"http://www.apache.org/dist/spark/{spark_version}/{spark_version}-bin-hadoop2.7.tgz\")\n",
        "# Install Spark and Java\n",
        "!apt-get update\n",
        "!apt-get install openjdk-11-jdk-headless -qq > /dev/null\n",
        "!wget -q https://archive.apache.org/dist/spark/$SPARK_VERSION/$SPARK_VERSION-bin-hadoop2.7.tgz\n",
        "\n",
        "!tar xf $SPARK_VERSION-bin-hadoop2.7.tgz\n",
        "!pip install -q findspark\n",
        "\n",
        "# Set Environment Variables\n",
        "os.environ[\"JAVA_HOME\"] = \"/usr/lib/jvm/java-11-openjdk-amd64\"\n",
        "os.environ[\"SPARK_HOME\"] = f\"/content/{spark_version}-bin-hadoop2.7\"\n",
        "\n",
        "# Start a SparkSession\n",
        "import findspark\n",
        "findspark.init()"
      ],
      "execution_count": 1,
      "outputs": [
        {
          "output_type": "stream",
          "name": "stdout",
          "text": [
            "http://www.apache.org/dist/spark/spark-3.0.0/spark-3.0.0-bin-hadoop2.7.tgz\n",
            "Get:1 http://ppa.launchpad.net/c2d4u.team/c2d4u4.0+/ubuntu bionic InRelease [15.9 kB]\n",
            "Hit:2 http://archive.ubuntu.com/ubuntu bionic InRelease\n",
            "Get:3 http://archive.ubuntu.com/ubuntu bionic-updates InRelease [88.7 kB]\n",
            "Get:4 https://cloud.r-project.org/bin/linux/ubuntu bionic-cran40/ InRelease [3,626 B]\n",
            "Hit:5 http://ppa.launchpad.net/cran/libgit2/ubuntu bionic InRelease\n",
            "Hit:6 http://ppa.launchpad.net/deadsnakes/ppa/ubuntu bionic InRelease\n",
            "Get:7 http://archive.ubuntu.com/ubuntu bionic-backports InRelease [74.6 kB]\n",
            "Get:8 http://ppa.launchpad.net/graphics-drivers/ppa/ubuntu bionic InRelease [21.3 kB]\n",
            "Get:9 http://security.ubuntu.com/ubuntu bionic-security InRelease [88.7 kB]\n",
            "Ign:10 https://developer.download.nvidia.com/compute/cuda/repos/ubuntu1804/x86_64  InRelease\n",
            "Ign:11 https://developer.download.nvidia.com/compute/machine-learning/repos/ubuntu1804/x86_64  InRelease\n",
            "Get:12 https://developer.download.nvidia.com/compute/cuda/repos/ubuntu1804/x86_64  Release [696 B]\n",
            "Hit:13 https://developer.download.nvidia.com/compute/machine-learning/repos/ubuntu1804/x86_64  Release\n",
            "Get:14 http://ppa.launchpad.net/c2d4u.team/c2d4u4.0+/ubuntu bionic/main Sources [1,810 kB]\n",
            "Get:15 https://developer.download.nvidia.com/compute/cuda/repos/ubuntu1804/x86_64  Release.gpg [836 B]\n",
            "Get:16 http://ppa.launchpad.net/c2d4u.team/c2d4u4.0+/ubuntu bionic/main amd64 Packages [927 kB]\n",
            "Get:17 http://archive.ubuntu.com/ubuntu bionic-updates/universe amd64 Packages [2,213 kB]\n",
            "Get:18 http://archive.ubuntu.com/ubuntu bionic-updates/main amd64 Packages [2,835 kB]\n",
            "Get:19 http://ppa.launchpad.net/graphics-drivers/ppa/ubuntu bionic/main amd64 Packages [44.7 kB]\n",
            "Get:21 https://developer.download.nvidia.com/compute/cuda/repos/ubuntu1804/x86_64  Packages [786 kB]\n",
            "Get:22 http://security.ubuntu.com/ubuntu bionic-security/universe amd64 Packages [1,434 kB]\n",
            "Get:23 http://security.ubuntu.com/ubuntu bionic-security/main amd64 Packages [2,398 kB]\n",
            "Fetched 12.7 MB in 3s (4,377 kB/s)\n",
            "Reading package lists... Done\n"
          ]
        }
      ]
    },
    {
      "cell_type": "code",
      "metadata": {
        "colab": {
          "base_uri": "https://localhost:8080/"
        },
        "id": "BInVM6K8Xnqy",
        "outputId": "d2be3d18-a316-40e3-ef5a-d9e6c45a4e05"
      },
      "source": [
        "# Download the Postgres driver that will allow Spark to interact with Postgres.\n",
        "!wget https://jdbc.postgresql.org/download/postgresql-42.2.16.jar"
      ],
      "execution_count": 2,
      "outputs": [
        {
          "output_type": "stream",
          "name": "stdout",
          "text": [
            "--2021-11-01 02:40:39--  https://jdbc.postgresql.org/download/postgresql-42.2.16.jar\n",
            "Resolving jdbc.postgresql.org (jdbc.postgresql.org)... 72.32.157.228, 2001:4800:3e1:1::228\n",
            "Connecting to jdbc.postgresql.org (jdbc.postgresql.org)|72.32.157.228|:443... connected.\n",
            "HTTP request sent, awaiting response... 200 OK\n",
            "Length: 1002883 (979K) [application/java-archive]\n",
            "Saving to: ‘postgresql-42.2.16.jar’\n",
            "\n",
            "postgresql-42.2.16. 100%[===================>] 979.38K  1.69MB/s    in 0.6s    \n",
            "\n",
            "2021-11-01 02:40:40 (1.69 MB/s) - ‘postgresql-42.2.16.jar’ saved [1002883/1002883]\n",
            "\n"
          ]
        }
      ]
    },
    {
      "cell_type": "code",
      "metadata": {
        "id": "43y9H7I0XtR9"
      },
      "source": [
        "from pyspark.sql import SparkSession\n",
        "spark = SparkSession.builder.appName(\"M16-Amazon-Challenge\").config(\"spark.driver.extraClassPath\",\"/content/postgresql-42.2.16.jar\").getOrCreate()"
      ],
      "execution_count": 3,
      "outputs": []
    },
    {
      "cell_type": "markdown",
      "metadata": {
        "id": "-1O9kHsIX27_"
      },
      "source": [
        ""
      ]
    },
    {
      "cell_type": "code",
      "metadata": {
        "colab": {
          "base_uri": "https://localhost:8080/"
        },
        "id": "BSXB7vTXX3J7",
        "outputId": "e8e57554-e815-4807-9723-a149610ebc5c"
      },
      "source": [
        "from pyspark import SparkFiles\n",
        "url = \"https://s3.amazonaws.com/amazon-reviews-pds/tsv/amazon_reviews_us_Home_Improvement_v1_00.tsv.gz\"\n",
        "spark.sparkContext.addFile(url)\n",
        "df = spark.read.option(\"encoding\", \"UTF-8\").csv(SparkFiles.get(\"\"), sep=\"\\t\", header=True, inferSchema=True)\n",
        "df.show()"
      ],
      "execution_count": 4,
      "outputs": [
        {
          "output_type": "stream",
          "name": "stdout",
          "text": [
            "+-----------+-----------+--------------+----------+--------------+--------------------+----------------+-----------+-------------+-----------+----+-----------------+--------------------+--------------------+-----------+\n",
            "|marketplace|customer_id|     review_id|product_id|product_parent|       product_title|product_category|star_rating|helpful_votes|total_votes|vine|verified_purchase|     review_headline|         review_body|review_date|\n",
            "+-----------+-----------+--------------+----------+--------------+--------------------+----------------+-----------+-------------+-----------+----+-----------------+--------------------+--------------------+-----------+\n",
            "|         US|   48881148|R215C9BDXTDQOW|B00FR4YQYK|     381800308|SadoTech Model C ...|Home Improvement|          4|            0|          0|   N|                Y|          Four Stars|        good product| 2015-08-31|\n",
            "|         US|   47882936|R1DTPUV1J57YHA|B00439MYYE|     921341748|iSpring T32M 3.2 ...|Home Improvement|          5|            0|          0|   N|                Y|Good price, quick...|Good price, quick...| 2015-08-31|\n",
            "|         US|   44435471| RFAZK5EWKJWOU|B00002N762|      56053291|Schlage F10CS V E...|Home Improvement|          5|            0|          0|   N|                Y|          Five Stars|       Excellent...!| 2015-08-31|\n",
            "|         US|   28377689|R2XT8X0O0WS1AL|B000QFCP1G|     595928517|Citri-Strip QCG73...|Home Improvement|          5|            0|          0|   N|                Y|Although *slightl...|Although *slightl...| 2015-08-31|\n",
            "|         US|   50134766|R14GRNANKO2Y2J|B00WRCRKOI|     417053744|SleekLighting Bul...|Home Improvement|          5|            0|          0|   N|                Y|      Great Adapters|These adapters ar...| 2015-08-31|\n",
            "|         US|   14066511|R2BLF9VYL24LCQ|B00NIH88EW|     275395071|VDOMUS&reg;Exquis...|Home Improvement|          5|            1|          1|   N|                Y|                nice|awesome and great...| 2015-08-31|\n",
            "|         US|   15211046|R1GI9UW5KJ671O|B005B9CI96|     856617815|Frigidaire 316075...|Home Improvement|          5|            0|          0|   N|                Y|          Five Stars|Perfect. Exactly ...| 2015-08-31|\n",
            "|         US|   14862498|R2H5CEJN863M86|B008L0OMWI|     125102494|Anyray® 5-Bulbs 7...|Home Improvement|          5|            0|          1|   N|                Y|So far working gr...|So far working gr...| 2015-08-31|\n",
            "|         US|   23617292| R5PPDHFOZ3SMU|B00P9FTC6O|     523110842|Cambridge 100 pcs...|Home Improvement|          5|            0|          0|   N|                Y|           Ties tie.|Not much to say a...| 2015-08-31|\n",
            "|         US|   35820485| RE1L9IENKJJ7Y|B00K6BQEHQ|     797306964|EUBUY Silver Tone...|Home Improvement|          1|            0|          0|   N|                Y|             GARBAGE|       crap quality.| 2015-08-31|\n",
            "|         US|   47162350|R3CZ0990QC2Z0H|B008BYQCWM|     865874404|Legend 809125 Leg...|Home Improvement|          5|            0|          0|   N|                Y|          Five Stars|  Good. As expected.| 2015-08-31|\n",
            "|         US|   31884789|R3UMMD2IO29QSP|B003BLHTOU|     183592595|Forearm Forklift ...|Home Improvement|          5|            0|          0|   N|                Y|           It works!|My husband and I ...| 2015-08-31|\n",
            "|         US|   43835770| R541LE5J3OJH2|B0065I114K|     185006358|Newer Technology ...|Home Improvement|          5|            0|          0|   N|                Y|          Five Stars|     works perfectly| 2015-08-31|\n",
            "|         US|   26212294|R10KD9FIE6Y1AS|B00J9XB6BQ|      53423207|Rok Hardware 25 P...|Home Improvement|          5|            0|          0|   N|                Y|Banging cabinet d...|Banging cabinet d...| 2015-08-31|\n",
            "|         US|   17876704|R1YT5YG0QG5DCG|B00K36NJ0E|     593464633|Drift Light Using...|Home Improvement|          5|            0|          0|   N|                Y|Great product for...|Great product for...| 2015-08-31|\n",
            "|         US|   22813225|R207LXJWL40V1S|B000ZIEOHW|     833911812|Troy DPH11 Profes...|Home Improvement|          4|            0|          0|   N|                Y|GETTING THE JOB D...|Drywalling our 18...| 2015-08-31|\n",
            "|         US|   25448576| RIDP0ZD7WT9DE|B0009YDHKC|     852173443|Wright Products V...|Home Improvement|          5|            0|          0|   N|                Y|          Five Stars|exact replacement...| 2015-08-31|\n",
            "|         US|   19754503|R2XJSNZ9219U1Z|B00LBGVLS2|     929968058|LiftMaster Garage...|Home Improvement|          5|            0|          0|   N|                Y|Easy to program g...|Works as advertis...| 2015-08-31|\n",
            "|         US|   17767084|R2M9F1FVVDOGFL|B00002N5DY|     830214712|Heath Zenith SL-5...|Home Improvement|          5|            0|          0|   N|                Y|     easy to install|Working well the ...| 2015-08-31|\n",
            "|         US|   48001709|R1QTOSE2BHU2LJ|B000BQOX88|     498022954|Intermatic T101 2...|Home Improvement|          3|            1|          2|   N|                Y|Kind of disappoin...|I connected the r...| 2015-08-31|\n",
            "+-----------+-----------+--------------+----------+--------------+--------------------+----------------+-----------+-------------+-----------+----+-----------------+--------------------+--------------------+-----------+\n",
            "only showing top 20 rows\n",
            "\n"
          ]
        }
      ]
    },
    {
      "cell_type": "markdown",
      "metadata": {
        "id": "9EK6JP3sYPrU"
      },
      "source": [
        ""
      ]
    },
    {
      "cell_type": "code",
      "metadata": {
        "colab": {
          "base_uri": "https://localhost:8080/"
        },
        "id": "JqKr2YrGX9eJ",
        "outputId": "f2d4d98a-c18e-4491-b8df-87c1bed68de4"
      },
      "source": [
        "# Create the vine_table. DataFrame\n",
        "# vine_df = df.select([])\n",
        "vine_df = df.select([\"review_id\",\"star_rating\",\"helpful_votes\",\"total_votes\",\"vine\",\"verified_purchase\"])\n",
        "vine_df.show(10)\n",
        "print((vine_df.count(), len(vine_df.columns)))"
      ],
      "execution_count": 5,
      "outputs": [
        {
          "output_type": "stream",
          "name": "stdout",
          "text": [
            "+--------------+-----------+-------------+-----------+----+-----------------+\n",
            "|     review_id|star_rating|helpful_votes|total_votes|vine|verified_purchase|\n",
            "+--------------+-----------+-------------+-----------+----+-----------------+\n",
            "|R215C9BDXTDQOW|          4|            0|          0|   N|                Y|\n",
            "|R1DTPUV1J57YHA|          5|            0|          0|   N|                Y|\n",
            "| RFAZK5EWKJWOU|          5|            0|          0|   N|                Y|\n",
            "|R2XT8X0O0WS1AL|          5|            0|          0|   N|                Y|\n",
            "|R14GRNANKO2Y2J|          5|            0|          0|   N|                Y|\n",
            "|R2BLF9VYL24LCQ|          5|            1|          1|   N|                Y|\n",
            "|R1GI9UW5KJ671O|          5|            0|          0|   N|                Y|\n",
            "|R2H5CEJN863M86|          5|            0|          1|   N|                Y|\n",
            "| R5PPDHFOZ3SMU|          5|            0|          0|   N|                Y|\n",
            "| RE1L9IENKJJ7Y|          1|            0|          0|   N|                Y|\n",
            "+--------------+-----------+-------------+-----------+----+-----------------+\n",
            "only showing top 10 rows\n",
            "\n",
            "(2634781, 6)\n"
          ]
        }
      ]
    },
    {
      "cell_type": "code",
      "metadata": {
        "colab": {
          "base_uri": "https://localhost:8080/"
        },
        "id": "ammfTvYbYbf4",
        "outputId": "04109abf-9a08-4836-91a5-e4efad482058"
      },
      "source": [
        "#products_df.filter(products_df.product_id == \"B00E8A0JQS\").show(10)\n",
        "vine20Votes_df = vine_df.filter(vine_df.total_votes >= 20)\n",
        "vine20Votes_df.show()\n",
        "print((vine20Votes_df.count(), len(vine20Votes_df.columns)))"
      ],
      "execution_count": 6,
      "outputs": [
        {
          "output_type": "stream",
          "name": "stdout",
          "text": [
            "+--------------+-----------+-------------+-----------+----+-----------------+\n",
            "|     review_id|star_rating|helpful_votes|total_votes|vine|verified_purchase|\n",
            "+--------------+-----------+-------------+-----------+----+-----------------+\n",
            "|R2VIQ3UX794Q0O|          4|           21|         21|   N|                Y|\n",
            "|R1OA24IIHWF54G|          5|           43|         45|   N|                Y|\n",
            "| RJ7N3OOJR9RL0|          4|           63|         71|   N|                Y|\n",
            "|R1W8778CBXSRU6|          5|           28|         29|   N|                Y|\n",
            "|R2EFAM03SWLIJX|          1|           32|         35|   N|                Y|\n",
            "|R3F8P56ZDJ6PI8|          4|          106|        115|   N|                Y|\n",
            "|R2QYLQEK9UAJQ6|          5|           33|         34|   N|                Y|\n",
            "| RQCC7XNYI014B|          1|           91|         92|   N|                Y|\n",
            "|R2U8FRHRVW5D2C|          5|           23|         23|   N|                N|\n",
            "|R3RJZC5J4VP7AT|          4|           86|         91|   N|                N|\n",
            "|R2KBV3A9X53ULG|          5|           39|         45|   N|                Y|\n",
            "|R18XX6GVZ41CY1|          5|           21|         22|   N|                N|\n",
            "|R3V8NHJWQWOU7S|          5|           27|         27|   N|                Y|\n",
            "|R25FJV7A58YHEM|          1|           19|         22|   N|                Y|\n",
            "|R285Z02CQJJ36C|          3|           45|         48|   N|                Y|\n",
            "| R5UJCOLQBEADG|          1|           31|         35|   N|                Y|\n",
            "|R1KEUH7SZ9BIRK|          1|           20|         20|   N|                Y|\n",
            "|R16U59S8ZJGPLY|          5|           64|         64|   N|                Y|\n",
            "|R233D4SD2MHUZG|          5|           20|         20|   N|                Y|\n",
            "| RVDGV2G8PEUH2|          1|           13|         21|   N|                N|\n",
            "+--------------+-----------+-------------+-----------+----+-----------------+\n",
            "only showing top 20 rows\n",
            "\n",
            "(41458, 6)\n"
          ]
        }
      ]
    },
    {
      "cell_type": "code",
      "metadata": {
        "colab": {
          "base_uri": "https://localhost:8080/"
        },
        "id": "R0hn4r0_YrOa",
        "outputId": "5f442f05-0ea0-4cb7-cf4d-d887fa57fdce"
      },
      "source": [
        "vinePercentage_df = vine20Votes_df.filter((vine20Votes_df.helpful_votes/vine20Votes_df.total_votes) >= .5)\n",
        "vinePercentage_df.show()\n",
        "print((vinePercentage_df.count(), len(vinePercentage_df.columns)))"
      ],
      "execution_count": 7,
      "outputs": [
        {
          "output_type": "stream",
          "name": "stdout",
          "text": [
            "+--------------+-----------+-------------+-----------+----+-----------------+\n",
            "|     review_id|star_rating|helpful_votes|total_votes|vine|verified_purchase|\n",
            "+--------------+-----------+-------------+-----------+----+-----------------+\n",
            "|R2VIQ3UX794Q0O|          4|           21|         21|   N|                Y|\n",
            "|R1OA24IIHWF54G|          5|           43|         45|   N|                Y|\n",
            "| RJ7N3OOJR9RL0|          4|           63|         71|   N|                Y|\n",
            "|R1W8778CBXSRU6|          5|           28|         29|   N|                Y|\n",
            "|R2EFAM03SWLIJX|          1|           32|         35|   N|                Y|\n",
            "|R3F8P56ZDJ6PI8|          4|          106|        115|   N|                Y|\n",
            "|R2QYLQEK9UAJQ6|          5|           33|         34|   N|                Y|\n",
            "| RQCC7XNYI014B|          1|           91|         92|   N|                Y|\n",
            "|R2U8FRHRVW5D2C|          5|           23|         23|   N|                N|\n",
            "|R3RJZC5J4VP7AT|          4|           86|         91|   N|                N|\n",
            "|R2KBV3A9X53ULG|          5|           39|         45|   N|                Y|\n",
            "|R18XX6GVZ41CY1|          5|           21|         22|   N|                N|\n",
            "|R3V8NHJWQWOU7S|          5|           27|         27|   N|                Y|\n",
            "|R25FJV7A58YHEM|          1|           19|         22|   N|                Y|\n",
            "|R285Z02CQJJ36C|          3|           45|         48|   N|                Y|\n",
            "| R5UJCOLQBEADG|          1|           31|         35|   N|                Y|\n",
            "|R1KEUH7SZ9BIRK|          1|           20|         20|   N|                Y|\n",
            "|R16U59S8ZJGPLY|          5|           64|         64|   N|                Y|\n",
            "|R233D4SD2MHUZG|          5|           20|         20|   N|                Y|\n",
            "| RVDGV2G8PEUH2|          1|           13|         21|   N|                N|\n",
            "+--------------+-----------+-------------+-----------+----+-----------------+\n",
            "only showing top 20 rows\n",
            "\n",
            "(39095, 6)\n"
          ]
        }
      ]
    },
    {
      "cell_type": "code",
      "metadata": {
        "colab": {
          "base_uri": "https://localhost:8080/"
        },
        "id": "g81wxh2tY1zw",
        "outputId": "b3b64279-9c8d-4bc4-a7ac-5b7c951ff0e2"
      },
      "source": [
        "vinePaid_df = vinePercentage_df.filter(vinePercentage_df.vine == 'Y')\n",
        "vinePaid_df.show()\n",
        "print((vinePaid_df.count(), len(vinePaid_df.columns)))"
      ],
      "execution_count": 8,
      "outputs": [
        {
          "output_type": "stream",
          "name": "stdout",
          "text": [
            "+--------------+-----------+-------------+-----------+----+-----------------+\n",
            "|     review_id|star_rating|helpful_votes|total_votes|vine|verified_purchase|\n",
            "+--------------+-----------+-------------+-----------+----+-----------------+\n",
            "|R29V4UDSS053D8|          3|           33|         38|   Y|                N|\n",
            "|R1I2D068WC37PA|          3|           32|         37|   Y|                N|\n",
            "|R13W2U74F67QED|          5|           62|         76|   Y|                N|\n",
            "|R2QI37XFOBKUGD|          4|           24|         33|   Y|                N|\n",
            "|R19F60BB2DNCKN|          5|          170|        174|   Y|                N|\n",
            "|R2PYNEWYYQDWHI|          5|           24|         27|   Y|                N|\n",
            "|R1UEWHCPJL2XJB|          5|           70|         72|   Y|                N|\n",
            "| RXTMMEBRYZB53|          5|           21|         24|   Y|                N|\n",
            "|R1PXVYIYMYGUZL|          5|           21|         26|   Y|                N|\n",
            "| RSFMJJXFZHX1C|          5|           24|         25|   Y|                N|\n",
            "|R3AGOANU5B89WE|          4|           20|         21|   Y|                N|\n",
            "|R1Z849RVP83BSJ|          5|           21|         23|   Y|                N|\n",
            "|R2HQVKK2QW0EAT|          5|           20|         24|   Y|                N|\n",
            "|  RHSOAAAT5UVP|          5|           55|         56|   Y|                N|\n",
            "| RZXDK1RE3YQ97|          4|           18|         21|   Y|                N|\n",
            "|R2IQH4H2S5EROF|          5|           23|         24|   Y|                N|\n",
            "| R2BQ1FHU7OQPQ|          5|          212|        220|   Y|                N|\n",
            "| RH1A5XB16O3BM|          4|           28|         32|   Y|                N|\n",
            "| R4MAE8LHKDZMG|          5|           36|         39|   Y|                Y|\n",
            "|R2QLNOOJ4J16D2|          3|          111|        118|   Y|                N|\n",
            "+--------------+-----------+-------------+-----------+----+-----------------+\n",
            "only showing top 20 rows\n",
            "\n",
            "(266, 6)\n"
          ]
        }
      ]
    },
    {
      "cell_type": "code",
      "metadata": {
        "colab": {
          "base_uri": "https://localhost:8080/"
        },
        "id": "vscu9k0CZEKl",
        "outputId": "b624c153-4c1d-4771-841d-e02c091974be"
      },
      "source": [
        "vineUnpaid_df = vinePercentage_df.filter(vinePercentage_df.vine == 'N')\n",
        "vineUnpaid_df.show()\n",
        "print((vineUnpaid_df.count(), len(vineUnpaid_df.columns)))"
      ],
      "execution_count": 9,
      "outputs": [
        {
          "output_type": "stream",
          "name": "stdout",
          "text": [
            "+--------------+-----------+-------------+-----------+----+-----------------+\n",
            "|     review_id|star_rating|helpful_votes|total_votes|vine|verified_purchase|\n",
            "+--------------+-----------+-------------+-----------+----+-----------------+\n",
            "|R2VIQ3UX794Q0O|          4|           21|         21|   N|                Y|\n",
            "|R1OA24IIHWF54G|          5|           43|         45|   N|                Y|\n",
            "| RJ7N3OOJR9RL0|          4|           63|         71|   N|                Y|\n",
            "|R1W8778CBXSRU6|          5|           28|         29|   N|                Y|\n",
            "|R2EFAM03SWLIJX|          1|           32|         35|   N|                Y|\n",
            "|R3F8P56ZDJ6PI8|          4|          106|        115|   N|                Y|\n",
            "|R2QYLQEK9UAJQ6|          5|           33|         34|   N|                Y|\n",
            "| RQCC7XNYI014B|          1|           91|         92|   N|                Y|\n",
            "|R2U8FRHRVW5D2C|          5|           23|         23|   N|                N|\n",
            "|R3RJZC5J4VP7AT|          4|           86|         91|   N|                N|\n",
            "|R2KBV3A9X53ULG|          5|           39|         45|   N|                Y|\n",
            "|R18XX6GVZ41CY1|          5|           21|         22|   N|                N|\n",
            "|R3V8NHJWQWOU7S|          5|           27|         27|   N|                Y|\n",
            "|R25FJV7A58YHEM|          1|           19|         22|   N|                Y|\n",
            "|R285Z02CQJJ36C|          3|           45|         48|   N|                Y|\n",
            "| R5UJCOLQBEADG|          1|           31|         35|   N|                Y|\n",
            "|R1KEUH7SZ9BIRK|          1|           20|         20|   N|                Y|\n",
            "|R16U59S8ZJGPLY|          5|           64|         64|   N|                Y|\n",
            "|R233D4SD2MHUZG|          5|           20|         20|   N|                Y|\n",
            "| RVDGV2G8PEUH2|          1|           13|         21|   N|                N|\n",
            "+--------------+-----------+-------------+-----------+----+-----------------+\n",
            "only showing top 20 rows\n",
            "\n",
            "(38829, 6)\n"
          ]
        }
      ]
    },
    {
      "cell_type": "code",
      "metadata": {
        "id": "fPrnm7coZENl"
      },
      "source": [
        "totalReviews = vinePaid_df.count()\n",
        "fiveStarReviews = vinePaid_df.filter(vinePaid_df.star_rating == 5).count()\n",
        "percentageFiveStarReviews = ((fiveStarReviews*100)/totalReviews)"
      ],
      "execution_count": 10,
      "outputs": []
    },
    {
      "cell_type": "code",
      "metadata": {
        "colab": {
          "base_uri": "https://localhost:8080/"
        },
        "id": "PEQYWUTsZEQi",
        "outputId": "2c0fbc49-23f8-4fcc-969a-c1877eba48a3"
      },
      "source": [
        "print('----------------PAID VINES -----------------')\n",
        "print('Total reviews count: '+str(totalReviews))\n",
        "print('Five Star reviews count: '+str(fiveStarReviews))\n",
        "print('Percentage: '+str(percentageFiveStarReviews))"
      ],
      "execution_count": 11,
      "outputs": [
        {
          "output_type": "stream",
          "name": "stdout",
          "text": [
            "----------------PAID VINES -----------------\n",
            "Total reviews count: 266\n",
            "Five Star reviews count: 125\n",
            "Percentage: 46.99248120300752\n"
          ]
        }
      ]
    },
    {
      "cell_type": "code",
      "metadata": {
        "id": "Hzq8s_h-ZgrF"
      },
      "source": [
        "totalReviewsU = vineUnpaid_df.count()\n",
        "fiveStarReviewsU = vineUnpaid_df.filter(vineUnpaid_df.star_rating == 5).count()\n",
        "percentageFiveStarReviewsU = ((fiveStarReviewsU*100)/totalReviewsU)"
      ],
      "execution_count": 12,
      "outputs": []
    },
    {
      "cell_type": "code",
      "metadata": {
        "colab": {
          "base_uri": "https://localhost:8080/"
        },
        "id": "UAJv-n7TZgzj",
        "outputId": "ea5ca805-23e6-4120-ee17-900bd4390b1f"
      },
      "source": [
        "print('----------------UNPAID VINES -----------------')\n",
        "print('Total reviews count: '+str(totalReviewsU))\n",
        "print('Five Star reviews count: '+str(fiveStarReviewsU))\n",
        "print('Percentage: '+str(percentageFiveStarReviewsU))"
      ],
      "execution_count": 13,
      "outputs": [
        {
          "output_type": "stream",
          "name": "stdout",
          "text": [
            "----------------UNPAID VINES -----------------\n",
            "Total reviews count: 38829\n",
            "Five Star reviews count: 18246\n",
            "Percentage: 46.99065131731438\n"
          ]
        }
      ]
    }
  ]
}